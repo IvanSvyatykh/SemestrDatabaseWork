{
 "cells": [
  {
   "cell_type": "code",
   "execution_count": 185,
   "metadata": {},
   "outputs": [],
   "source": [
    "import pandas as pd\n",
    "from pathlib import Path"
   ]
  },
  {
   "cell_type": "code",
   "execution_count": 186,
   "metadata": {},
   "outputs": [
    {
     "data": {
      "text/html": [
       "<div>\n",
       "<style scoped>\n",
       "    .dataframe tbody tr th:only-of-type {\n",
       "        vertical-align: middle;\n",
       "    }\n",
       "\n",
       "    .dataframe tbody tr th {\n",
       "        vertical-align: top;\n",
       "    }\n",
       "\n",
       "    .dataframe thead th {\n",
       "        text-align: right;\n",
       "    }\n",
       "</style>\n",
       "<table border=\"1\" class=\"dataframe\">\n",
       "  <thead>\n",
       "    <tr style=\"text-align: right;\">\n",
       "      <th></th>\n",
       "      <th>aircraft_code</th>\n",
       "      <th>model</th>\n",
       "      <th>count</th>\n",
       "    </tr>\n",
       "  </thead>\n",
       "  <tbody>\n",
       "    <tr>\n",
       "      <th>0</th>\n",
       "      <td>733</td>\n",
       "      <td>Боинг 737-300</td>\n",
       "      <td>130</td>\n",
       "    </tr>\n",
       "    <tr>\n",
       "      <th>1</th>\n",
       "      <td>773</td>\n",
       "      <td>Боинг 777-300</td>\n",
       "      <td>402</td>\n",
       "    </tr>\n",
       "    <tr>\n",
       "      <th>2</th>\n",
       "      <td>321</td>\n",
       "      <td>Аэробус A321-200</td>\n",
       "      <td>170</td>\n",
       "    </tr>\n",
       "    <tr>\n",
       "      <th>3</th>\n",
       "      <td>319</td>\n",
       "      <td>Аэробус A319-100</td>\n",
       "      <td>116</td>\n",
       "    </tr>\n",
       "    <tr>\n",
       "      <th>4</th>\n",
       "      <td>CR2</td>\n",
       "      <td>Бомбардье CRJ-200</td>\n",
       "      <td>50</td>\n",
       "    </tr>\n",
       "  </tbody>\n",
       "</table>\n",
       "</div>"
      ],
      "text/plain": [
       "  aircraft_code              model  count\n",
       "0           733      Боинг 737-300    130\n",
       "1           773      Боинг 777-300    402\n",
       "2           321   Аэробус A321-200    170\n",
       "3           319   Аэробус A319-100    116\n",
       "4           CR2  Бомбардье CRJ-200     50"
      ]
     },
     "execution_count": 186,
     "metadata": {},
     "output_type": "execute_result"
    }
   ],
   "source": [
    "airafts_data = pd.read_csv(\"../data/aircrafts.csv\")\n",
    "airafts_data.head()"
   ]
  },
  {
   "cell_type": "code",
   "execution_count": 187,
   "metadata": {},
   "outputs": [],
   "source": [
    "Path.mkdir(Path(\"../data/results\"), exist_ok=True)\n",
    "airafts_data.to_csv(\"../data/results/aircrafts.csv\", index=False)"
   ]
  },
  {
   "cell_type": "code",
   "execution_count": 188,
   "metadata": {},
   "outputs": [
    {
     "data": {
      "text/plain": [
       "datetime.datetime(2024, 11, 3, 16, 7, 31, 495094)"
      ]
     },
     "execution_count": 188,
     "metadata": {},
     "output_type": "execute_result"
    }
   ],
   "source": [
    "import datetime\n",
    "import rstr\n",
    "\n",
    "datetime.datetime.today()\n",
    "\n",
    "rstr.xeger(r\"^[A-Z]-[A-Z]{4}|[A-Z]{2}-[A-Z]{3}|N[0-9]{3}[A-Z]{3}$\")\n",
    "type(r\"^[A-Z]-[A-Z]{4}|[A-Z]{2}-[A-Z]{3}|N[0-9]{3}[A-Z]{3}$\")\n",
    "datetime.datetime.today()"
   ]
  },
  {
   "cell_type": "code",
   "execution_count": 261,
   "metadata": {},
   "outputs": [],
   "source": [
    "import random\n",
    "from zoneinfo import ZoneInfo\n",
    "\n",
    "\n",
    "def __generate_dates_for_flight_num(\n",
    "    min_year: int,\n",
    "    max_year: int = 2015,\n",
    "    timezone: str = \"Asia/Yekaterinburg\",\n",
    ") -> list[tuple[datetime.datetime, datetime.datetime]]:\n",
    "\n",
    "    res = []\n",
    "    count = 0\n",
    "    step = max(3, (max_year - min_year) // 3)\n",
    "    for i in range(min_year, max_year, step):\n",
    "        year = random.randint(i, i + step)\n",
    "        month = random.randint(1, 12)\n",
    "        day = random.randint(1, 28)\n",
    "        date = datetime.datetime(\n",
    "            year,\n",
    "            month,\n",
    "            day,\n",
    "            hour=0,\n",
    "            minute=0,\n",
    "            second=0,\n",
    "            tzinfo=ZoneInfo(timezone),\n",
    "        )\n",
    "        if count > 0:\n",
    "            res.append(date - datetime.timedelta(days=1))\n",
    "        res.append(date)\n",
    "        count += 1\n",
    "    res.append(\n",
    "        datetime.datetime(\n",
    "            year=9999,\n",
    "            month=12,\n",
    "            day=31,\n",
    "            hour=23,\n",
    "            minute=59,\n",
    "            second=59,\n",
    "            tzinfo=ZoneInfo(timezone),\n",
    "        )\n",
    "    )\n",
    "    return res"
   ]
  },
  {
   "cell_type": "code",
   "execution_count": 258,
   "metadata": {},
   "outputs": [],
   "source": [
    "from bson import ObjectId\n",
    "\n",
    "\n",
    "def generate_aircraft_number_story(\n",
    "    aircraft_id: ObjectId,\n",
    "    pattern: str,\n",
    "    min_year: int,\n",
    "    max_year: int = 2015,\n",
    "    timezone: str = \"Asia/Yekaterinburg\",\n",
    ") -> pd.DataFrame:\n",
    "\n",
    "    dates = __generate_dates_for_flight_num(min_year, max_year, timezone)\n",
    "\n",
    "    temp_dic = {}\n",
    "    temp_dic[\"aircraft_id\"] = []\n",
    "    temp_dic[\"aircraft_num\"] = []\n",
    "    temp_dic[\"registration_date\"] = []\n",
    "    temp_dic[\"deregistration_date\"] = []\n",
    "    for i in range(1, len(dates), 2):\n",
    "\n",
    "        temp_dic[\"aircraft_id\"].append(str(aircraft_id))\n",
    "        temp_dic[\"aircraft_num\"].append(\n",
    "            rstr.xeger(string_or_regex=pattern)\n",
    "        )\n",
    "        temp_dic[\"registration_date\"].append(dates[i - 1])\n",
    "        temp_dic[\"deregistration_date\"].append([dates[i]])\n",
    "\n",
    "    return pd.DataFrame(temp_dic)"
   ]
  },
  {
   "cell_type": "code",
   "execution_count": 265,
   "metadata": {},
   "outputs": [
    {
     "data": {
      "text/html": [
       "<div>\n",
       "<style scoped>\n",
       "    .dataframe tbody tr th:only-of-type {\n",
       "        vertical-align: middle;\n",
       "    }\n",
       "\n",
       "    .dataframe tbody tr th {\n",
       "        vertical-align: top;\n",
       "    }\n",
       "\n",
       "    .dataframe thead th {\n",
       "        text-align: right;\n",
       "    }\n",
       "</style>\n",
       "<table border=\"1\" class=\"dataframe\">\n",
       "  <thead>\n",
       "    <tr style=\"text-align: right;\">\n",
       "      <th></th>\n",
       "      <th>aircraft_id</th>\n",
       "      <th>aircraft_num</th>\n",
       "      <th>registration_date</th>\n",
       "      <th>deregistration_date</th>\n",
       "    </tr>\n",
       "  </thead>\n",
       "  <tbody>\n",
       "    <tr>\n",
       "      <th>0</th>\n",
       "      <td>123</td>\n",
       "      <td>N643SHC</td>\n",
       "      <td>2000-02-18 00:00:00+05:00</td>\n",
       "      <td>[2009-11-12 00:00:00+05:00]</td>\n",
       "    </tr>\n",
       "    <tr>\n",
       "      <th>1</th>\n",
       "      <td>123</td>\n",
       "      <td>N826ULM</td>\n",
       "      <td>2009-11-13 00:00:00+05:00</td>\n",
       "      <td>[2011-10-06 00:00:00+06:00]</td>\n",
       "    </tr>\n",
       "    <tr>\n",
       "      <th>2</th>\n",
       "      <td>123</td>\n",
       "      <td>N936MQO</td>\n",
       "      <td>2011-10-07 00:00:00+06:00</td>\n",
       "      <td>[9999-12-31 23:59:59+05:00]</td>\n",
       "    </tr>\n",
       "  </tbody>\n",
       "</table>\n",
       "</div>"
      ],
      "text/plain": [
       "  aircraft_id aircraft_num         registration_date  \\\n",
       "0         123      N643SHC 2000-02-18 00:00:00+05:00   \n",
       "1         123      N826ULM 2009-11-13 00:00:00+05:00   \n",
       "2         123      N936MQO 2011-10-07 00:00:00+06:00   \n",
       "\n",
       "           deregistration_date  \n",
       "0  [2009-11-12 00:00:00+05:00]  \n",
       "1  [2011-10-06 00:00:00+06:00]  \n",
       "2  [9999-12-31 23:59:59+05:00]  "
      ]
     },
     "execution_count": 265,
     "metadata": {},
     "output_type": "execute_result"
    }
   ],
   "source": [
    "story = generate_aircraft_number_story(\n",
    "    123,\n",
    "    pattern=r\"^[A-Z]-[A-Z]{4}|[A-Z]{2}-[A-Z]{3}|N[0-9]{3}[A-Z]{3}$\",\n",
    "    min_year=2000,\n",
    "    max_year=2015,\n",
    ")\n",
    "story"
   ]
  }
 ],
 "metadata": {
  "kernelspec": {
   "display_name": ".venv",
   "language": "python",
   "name": "python3"
  },
  "language_info": {
   "codemirror_mode": {
    "name": "ipython",
    "version": 3
   },
   "file_extension": ".py",
   "mimetype": "text/x-python",
   "name": "python",
   "nbconvert_exporter": "python",
   "pygments_lexer": "ipython3",
   "version": "3.12.3"
  }
 },
 "nbformat": 4,
 "nbformat_minor": 2
}
