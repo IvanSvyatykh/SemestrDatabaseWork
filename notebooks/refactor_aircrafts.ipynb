{
 "cells": [
  {
   "cell_type": "code",
   "execution_count": 179,
   "metadata": {},
   "outputs": [],
   "source": [
    "import pandas as pd\n",
    "from pathlib import Path"
   ]
  },
  {
   "cell_type": "code",
   "execution_count": 180,
   "metadata": {},
   "outputs": [
    {
     "data": {
      "text/html": [
       "<div>\n",
       "<style scoped>\n",
       "    .dataframe tbody tr th:only-of-type {\n",
       "        vertical-align: middle;\n",
       "    }\n",
       "\n",
       "    .dataframe tbody tr th {\n",
       "        vertical-align: top;\n",
       "    }\n",
       "\n",
       "    .dataframe thead th {\n",
       "        text-align: right;\n",
       "    }\n",
       "</style>\n",
       "<table border=\"1\" class=\"dataframe\">\n",
       "  <thead>\n",
       "    <tr style=\"text-align: right;\">\n",
       "      <th></th>\n",
       "      <th>iata_name</th>\n",
       "      <th>name</th>\n",
       "      <th>count</th>\n",
       "      <th>id</th>\n",
       "    </tr>\n",
       "  </thead>\n",
       "  <tbody>\n",
       "    <tr>\n",
       "      <th>0</th>\n",
       "      <td>733</td>\n",
       "      <td>Боинг 737-300</td>\n",
       "      <td>130</td>\n",
       "      <td>1</td>\n",
       "    </tr>\n",
       "    <tr>\n",
       "      <th>1</th>\n",
       "      <td>773</td>\n",
       "      <td>Боинг 777-300</td>\n",
       "      <td>402</td>\n",
       "      <td>2</td>\n",
       "    </tr>\n",
       "    <tr>\n",
       "      <th>2</th>\n",
       "      <td>321</td>\n",
       "      <td>Аэробус A321-200</td>\n",
       "      <td>170</td>\n",
       "      <td>3</td>\n",
       "    </tr>\n",
       "    <tr>\n",
       "      <th>3</th>\n",
       "      <td>319</td>\n",
       "      <td>Аэробус A319-100</td>\n",
       "      <td>116</td>\n",
       "      <td>4</td>\n",
       "    </tr>\n",
       "    <tr>\n",
       "      <th>4</th>\n",
       "      <td>CR2</td>\n",
       "      <td>Бомбардье CRJ-200</td>\n",
       "      <td>50</td>\n",
       "      <td>5</td>\n",
       "    </tr>\n",
       "  </tbody>\n",
       "</table>\n",
       "</div>"
      ],
      "text/plain": [
       "  iata_name               name  count  id\n",
       "0       733      Боинг 737-300    130   1\n",
       "1       773      Боинг 777-300    402   2\n",
       "2       321   Аэробус A321-200    170   3\n",
       "3       319   Аэробус A319-100    116   4\n",
       "4       CR2  Бомбардье CRJ-200     50   5"
      ]
     },
     "execution_count": 180,
     "metadata": {},
     "output_type": "execute_result"
    }
   ],
   "source": [
    "airafts_data = pd.read_csv(\"../data/aircrafts.csv\")\n",
    "airafts_data.rename(\n",
    "    columns={\"aircraft_code\": \"iata_name\", \"model\": \"name\"}, inplace=True\n",
    ")\n",
    "airafts_data = pd.concat(\n",
    "    [airafts_data, airafts_data.sample(frac=0.7)], ignore_index=True\n",
    ")\n",
    "airafts_data[\"id\"] = [i + 1 for i in range(len(airafts_data))]\n",
    "airafts_data.head()"
   ]
  },
  {
   "cell_type": "code",
   "execution_count": 181,
   "metadata": {},
   "outputs": [],
   "source": [
    "Path.mkdir(Path(\"../data/results\"), exist_ok=True)\n",
    "airafts_data.to_csv(\"../data/results/aircrafts.csv\", index=False)"
   ]
  },
  {
   "cell_type": "code",
   "execution_count": 182,
   "metadata": {},
   "outputs": [
    {
     "name": "stdout",
     "output_type": "stream",
     "text": [
      "1\n",
      "2\n",
      "3\n",
      "4\n",
      "5\n",
      "6\n",
      "7\n",
      "8\n",
      "9\n",
      "10\n",
      "11\n",
      "12\n",
      "13\n",
      "14\n",
      "15\n"
     ]
    }
   ],
   "source": [
    "for id in airafts_data[\"id\"]:\n",
    "    print(id)"
   ]
  },
  {
   "cell_type": "code",
   "execution_count": 183,
   "metadata": {},
   "outputs": [],
   "source": [
    "import datetime\n",
    "import random\n",
    "import re\n",
    "from zoneinfo import ZoneInfo\n",
    "\n",
    "\n",
    "def __generate_dates_for_flight_num(\n",
    "    min_year: int,\n",
    "    max_year: int = 2015,\n",
    "    timezone: str = \"Asia/Yekaterinburg\",\n",
    ") -> list[datetime.datetime]:\n",
    "\n",
    "    res = []\n",
    "    count = 0\n",
    "    step = max(3, (max_year - min_year) // 3)\n",
    "    for i in range(min_year, max_year, step):\n",
    "        year = random.randint(i, i + step)\n",
    "        month = random.randint(1, 12)\n",
    "        day = random.randint(1, 28)\n",
    "        date = datetime.datetime(\n",
    "            year,\n",
    "            month,\n",
    "            day,\n",
    "            hour=0,\n",
    "            minute=0,\n",
    "            second=0,\n",
    "            tzinfo=ZoneInfo(timezone),\n",
    "        )\n",
    "        if count > 0:\n",
    "            last_date = date - datetime.timedelta(days=1)\n",
    "            res.append(last_date)\n",
    "        res.append(date)\n",
    "        count += 1\n",
    "    date = datetime.datetime(\n",
    "        year=9999,\n",
    "        month=12,\n",
    "        day=31,\n",
    "        hour=23,\n",
    "        minute=59,\n",
    "        second=59,\n",
    "        tzinfo=ZoneInfo(timezone),\n",
    "    )\n",
    "    res.append(date)\n",
    "    return res"
   ]
  },
  {
   "cell_type": "code",
   "execution_count": 184,
   "metadata": {},
   "outputs": [],
   "source": [
    "import rstr\n",
    "\n",
    "\n",
    "def generate_aircraft_number_story(\n",
    "    aircraft_id: str,\n",
    "    pattern: str,\n",
    "    min_year: int,\n",
    "    airlines: pd.DataFrame,\n",
    "    max_year: int = 2015,\n",
    "    timezone: str = \"Asia/Yekaterinburg\",\n",
    ") -> pd.DataFrame:\n",
    "\n",
    "    dates = __generate_dates_for_flight_num(min_year, max_year, timezone)\n",
    "\n",
    "    temp_dic = {}\n",
    "    temp_dic[\"aircraft_id\"] = []\n",
    "    temp_dic[\"aircraft_num\"] = []\n",
    "    temp_dic[\"registration_date\"] = []\n",
    "    temp_dic[\"deregistration_date\"] = []\n",
    "    temp_dic[\"iata_airlines\"] = []\n",
    "    for i in range(1, len(dates), 2):\n",
    "\n",
    "        temp_dic[\"aircraft_id\"].append(str(aircraft_id))\n",
    "        temp_dic[\"aircraft_num\"].append(\n",
    "            rstr.xeger(string_or_regex=pattern)\n",
    "        )\n",
    "        temp_dic[\"iata_airlines\"].append(\n",
    "            airlines.sample(n=1)[\"iata_name\"].iloc[0]\n",
    "        )\n",
    "        temp_dic[\"registration_date\"].append(dates[i - 1])\n",
    "        temp_dic[\"deregistration_date\"].append(dates[i])\n",
    "\n",
    "    return pd.DataFrame(temp_dic)"
   ]
  },
  {
   "cell_type": "code",
   "execution_count": 185,
   "metadata": {},
   "outputs": [],
   "source": [
    "def __get_aircraft_number_story(\n",
    "    id_series: pd.Series, airlines: pd.DataFrame\n",
    ") -> pd.DataFrame:\n",
    "    result = pd.DataFrame()\n",
    "    for id in id_series:\n",
    "        result = pd.concat(\n",
    "            [\n",
    "                result,\n",
    "                generate_aircraft_number_story(\n",
    "                    id,\n",
    "                    pattern=r\"^[A-Z]-[A-Z]{4}|[A-Z]{2}-[A-Z]{3}|N[0-9]{3}[A-Z]{3}$\",\n",
    "                    min_year=2000,\n",
    "                    max_year=2015,\n",
    "                    airlines=airlines,\n",
    "                ),\n",
    "            ]\n",
    "        )\n",
    "    return result"
   ]
  },
  {
   "cell_type": "code",
   "execution_count": 186,
   "metadata": {},
   "outputs": [],
   "source": [
    "airlines = pd.read_csv(\"../data/results/airlines.csv\")\n",
    "aircraft_number_story = __get_aircraft_number_story(\n",
    "    airafts_data[\"id\"], airlines\n",
    ")"
   ]
  },
  {
   "cell_type": "code",
   "execution_count": 188,
   "metadata": {},
   "outputs": [],
   "source": [
    "aircraft_number_story.to_csv(\n",
    "    \"../data/results/aircrafts_number.csv\", index=False\n",
    ")"
   ]
  }
 ],
 "metadata": {
  "kernelspec": {
   "display_name": ".venv",
   "language": "python",
   "name": "python3"
  },
  "language_info": {
   "codemirror_mode": {
    "name": "ipython",
    "version": 3
   },
   "file_extension": ".py",
   "mimetype": "text/x-python",
   "name": "python",
   "nbconvert_exporter": "python",
   "pygments_lexer": "ipython3",
   "version": "3.12.3"
  }
 },
 "nbformat": 4,
 "nbformat_minor": 2
}
