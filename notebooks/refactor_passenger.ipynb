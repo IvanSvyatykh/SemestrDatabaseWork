{
 "cells": [
  {
   "cell_type": "code",
   "execution_count": 2,
   "metadata": {},
   "outputs": [],
   "source": [
    "import pandas as pd\n",
    "from pathlib import Path"
   ]
  },
  {
   "cell_type": "code",
   "execution_count": 2,
   "metadata": {},
   "outputs": [
    {
     "data": {
      "text/html": [
       "<div>\n",
       "<style scoped>\n",
       "    .dataframe tbody tr th:only-of-type {\n",
       "        vertical-align: middle;\n",
       "    }\n",
       "\n",
       "    .dataframe tbody tr th {\n",
       "        vertical-align: top;\n",
       "    }\n",
       "\n",
       "    .dataframe thead th {\n",
       "        text-align: right;\n",
       "    }\n",
       "</style>\n",
       "<table border=\"1\" class=\"dataframe\">\n",
       "  <thead>\n",
       "    <tr style=\"text-align: right;\">\n",
       "      <th></th>\n",
       "      <th>passenger_id</th>\n",
       "      <th>passenger_name</th>\n",
       "    </tr>\n",
       "  </thead>\n",
       "  <tbody>\n",
       "    <tr>\n",
       "      <th>0</th>\n",
       "      <td>0000 000343</td>\n",
       "      <td>LIDIYA KUDRYASHOVA</td>\n",
       "    </tr>\n",
       "    <tr>\n",
       "      <th>1</th>\n",
       "      <td>0000 004609</td>\n",
       "      <td>YULIYA SMIRNOVA</td>\n",
       "    </tr>\n",
       "    <tr>\n",
       "      <th>2</th>\n",
       "      <td>0000 005006</td>\n",
       "      <td>ALEKSANDR ABRAMOV</td>\n",
       "    </tr>\n",
       "    <tr>\n",
       "      <th>3</th>\n",
       "      <td>0000 005049</td>\n",
       "      <td>VALENTINA FADEEVA</td>\n",
       "    </tr>\n",
       "    <tr>\n",
       "      <th>4</th>\n",
       "      <td>0000 006712</td>\n",
       "      <td>ELENA MIKHAYLOVA</td>\n",
       "    </tr>\n",
       "  </tbody>\n",
       "</table>\n",
       "</div>"
      ],
      "text/plain": [
       "  passenger_id      passenger_name\n",
       "0  0000 000343  LIDIYA KUDRYASHOVA\n",
       "1  0000 004609     YULIYA SMIRNOVA\n",
       "2  0000 005006   ALEKSANDR ABRAMOV\n",
       "3  0000 005049   VALENTINA FADEEVA\n",
       "4  0000 006712    ELENA MIKHAYLOVA"
      ]
     },
     "execution_count": 2,
     "metadata": {},
     "output_type": "execute_result"
    }
   ],
   "source": [
    "passenger_data = pd.read_csv(\"../data/passengers.csv\")\n",
    "passenger_data.head()"
   ]
  },
  {
   "cell_type": "code",
   "execution_count": 3,
   "metadata": {},
   "outputs": [
    {
     "data": {
      "text/html": [
       "<div>\n",
       "<style scoped>\n",
       "    .dataframe tbody tr th:only-of-type {\n",
       "        vertical-align: middle;\n",
       "    }\n",
       "\n",
       "    .dataframe tbody tr th {\n",
       "        vertical-align: top;\n",
       "    }\n",
       "\n",
       "    .dataframe thead th {\n",
       "        text-align: right;\n",
       "    }\n",
       "</style>\n",
       "<table border=\"1\" class=\"dataframe\">\n",
       "  <thead>\n",
       "    <tr style=\"text-align: right;\">\n",
       "      <th></th>\n",
       "      <th>name</th>\n",
       "      <th>surname</th>\n",
       "      <th>passport_ser</th>\n",
       "      <th>passport_num</th>\n",
       "    </tr>\n",
       "  </thead>\n",
       "  <tbody>\n",
       "    <tr>\n",
       "      <th>0</th>\n",
       "      <td>LIDIYA</td>\n",
       "      <td>KUDRYASHOVA</td>\n",
       "      <td>0000</td>\n",
       "      <td>000343</td>\n",
       "    </tr>\n",
       "    <tr>\n",
       "      <th>1</th>\n",
       "      <td>YULIYA</td>\n",
       "      <td>SMIRNOVA</td>\n",
       "      <td>0000</td>\n",
       "      <td>004609</td>\n",
       "    </tr>\n",
       "    <tr>\n",
       "      <th>2</th>\n",
       "      <td>ALEKSANDR</td>\n",
       "      <td>ABRAMOV</td>\n",
       "      <td>0000</td>\n",
       "      <td>005006</td>\n",
       "    </tr>\n",
       "    <tr>\n",
       "      <th>3</th>\n",
       "      <td>VALENTINA</td>\n",
       "      <td>FADEEVA</td>\n",
       "      <td>0000</td>\n",
       "      <td>005049</td>\n",
       "    </tr>\n",
       "    <tr>\n",
       "      <th>4</th>\n",
       "      <td>ELENA</td>\n",
       "      <td>MIKHAYLOVA</td>\n",
       "      <td>0000</td>\n",
       "      <td>006712</td>\n",
       "    </tr>\n",
       "  </tbody>\n",
       "</table>\n",
       "</div>"
      ],
      "text/plain": [
       "        name      surname passport_ser passport_num\n",
       "0     LIDIYA  KUDRYASHOVA         0000       000343\n",
       "1     YULIYA     SMIRNOVA         0000       004609\n",
       "2  ALEKSANDR      ABRAMOV         0000       005006\n",
       "3  VALENTINA      FADEEVA         0000       005049\n",
       "4      ELENA   MIKHAYLOVA         0000       006712"
      ]
     },
     "execution_count": 3,
     "metadata": {},
     "output_type": "execute_result"
    }
   ],
   "source": [
    "passenger_id = passenger_data[\"passenger_id\"]\n",
    "passenger_name = passenger_data[\"passenger_name\"]\n",
    "passenger_data = passenger_data.drop(\"passenger_name\", axis=1)\n",
    "passenger_data = passenger_data.drop(\"passenger_id\", axis=1)\n",
    "passenger_data[\"name\"] = passenger_name.apply(\n",
    "    lambda x: x.split(\" \")[0].strip(\" \")\n",
    ")\n",
    "passenger_data[\"surname\"] = passenger_name.apply(\n",
    "    lambda x: x.split(\" \")[-1].strip(\" \")\n",
    ")\n",
    "passenger_data[\"passport_ser\"] = passenger_id.apply(\n",
    "    lambda x: x.split(\" \")[0].strip(\" \")\n",
    ")\n",
    "passenger_data[\"passport_num\"] = passenger_id.apply(\n",
    "    lambda x: x.split(\" \")[-1].strip(\" \")\n",
    ")\n",
    "passenger_data.head()"
   ]
  },
  {
   "cell_type": "code",
   "execution_count": 4,
   "metadata": {},
   "outputs": [],
   "source": [
    "Path.mkdir(Path(\"../data/normalized\"), exist_ok=True)\n",
    "passenger_data.to_csv(\"../data/normalized/passengers.csv\", index=False)"
   ]
  }
 ],
 "metadata": {
  "kernelspec": {
   "display_name": ".venv",
   "language": "python",
   "name": "python3"
  },
  "language_info": {
   "codemirror_mode": {
    "name": "ipython",
    "version": 3
   },
   "file_extension": ".py",
   "mimetype": "text/x-python",
   "name": "python",
   "nbconvert_exporter": "python",
   "pygments_lexer": "ipython3",
   "version": "3.12.3"
  }
 },
 "nbformat": 4,
 "nbformat_minor": 2
}
