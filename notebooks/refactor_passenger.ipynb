{
 "cells": [
  {
   "cell_type": "code",
   "execution_count": 2,
   "metadata": {},
   "outputs": [],
   "source": [
    "import pandas as pd"
   ]
  },
  {
   "cell_type": "code",
   "execution_count": 5,
   "metadata": {},
   "outputs": [
    {
     "data": {
      "text/html": [
       "<div>\n",
       "<style scoped>\n",
       "    .dataframe tbody tr th:only-of-type {\n",
       "        vertical-align: middle;\n",
       "    }\n",
       "\n",
       "    .dataframe tbody tr th {\n",
       "        vertical-align: top;\n",
       "    }\n",
       "\n",
       "    .dataframe thead th {\n",
       "        text-align: right;\n",
       "    }\n",
       "</style>\n",
       "<table border=\"1\" class=\"dataframe\">\n",
       "  <thead>\n",
       "    <tr style=\"text-align: right;\">\n",
       "      <th></th>\n",
       "      <th>ticket_no</th>\n",
       "      <th>passenger_id</th>\n",
       "      <th>passenger_name</th>\n",
       "    </tr>\n",
       "  </thead>\n",
       "  <tbody>\n",
       "    <tr>\n",
       "      <th>0</th>\n",
       "      <td>5432000284</td>\n",
       "      <td>4030 855525</td>\n",
       "      <td>MIKHAIL SEMENOV</td>\n",
       "    </tr>\n",
       "    <tr>\n",
       "      <th>1</th>\n",
       "      <td>5432000285</td>\n",
       "      <td>8360 311602</td>\n",
       "      <td>ELENA ZAKHAROVA</td>\n",
       "    </tr>\n",
       "    <tr>\n",
       "      <th>2</th>\n",
       "      <td>5432000286</td>\n",
       "      <td>4510 377533</td>\n",
       "      <td>ILYA PAVLOV</td>\n",
       "    </tr>\n",
       "    <tr>\n",
       "      <th>3</th>\n",
       "      <td>5432000287</td>\n",
       "      <td>5952 253588</td>\n",
       "      <td>ELENA BELOVA</td>\n",
       "    </tr>\n",
       "    <tr>\n",
       "      <th>4</th>\n",
       "      <td>5432000288</td>\n",
       "      <td>4313 788533</td>\n",
       "      <td>VYACHESLAV IVANOV</td>\n",
       "    </tr>\n",
       "  </tbody>\n",
       "</table>\n",
       "</div>"
      ],
      "text/plain": [
       "    ticket_no passenger_id     passenger_name\n",
       "0  5432000284  4030 855525    MIKHAIL SEMENOV\n",
       "1  5432000285  8360 311602    ELENA ZAKHAROVA\n",
       "2  5432000286  4510 377533        ILYA PAVLOV\n",
       "3  5432000287  5952 253588       ELENA BELOVA\n",
       "4  5432000288  4313 788533  VYACHESLAV IVANOV"
      ]
     },
     "execution_count": 5,
     "metadata": {},
     "output_type": "execute_result"
    }
   ],
   "source": [
    "passenger_data = pd.read_csv(\"../data/passengers.csv\")\n",
    "passenger_data.head()"
   ]
  },
  {
   "cell_type": "code",
   "execution_count": 7,
   "metadata": {},
   "outputs": [
    {
     "data": {
      "text/html": [
       "<div>\n",
       "<style scoped>\n",
       "    .dataframe tbody tr th:only-of-type {\n",
       "        vertical-align: middle;\n",
       "    }\n",
       "\n",
       "    .dataframe tbody tr th {\n",
       "        vertical-align: top;\n",
       "    }\n",
       "\n",
       "    .dataframe thead th {\n",
       "        text-align: right;\n",
       "    }\n",
       "</style>\n",
       "<table border=\"1\" class=\"dataframe\">\n",
       "  <thead>\n",
       "    <tr style=\"text-align: right;\">\n",
       "      <th></th>\n",
       "      <th>ticket_no</th>\n",
       "      <th>passenger_name</th>\n",
       "      <th>passpor_ser</th>\n",
       "      <th>passpor_num</th>\n",
       "    </tr>\n",
       "  </thead>\n",
       "  <tbody>\n",
       "    <tr>\n",
       "      <th>0</th>\n",
       "      <td>5432000284</td>\n",
       "      <td>MIKHAIL SEMENOV</td>\n",
       "      <td>4030</td>\n",
       "      <td>855525</td>\n",
       "    </tr>\n",
       "    <tr>\n",
       "      <th>1</th>\n",
       "      <td>5432000285</td>\n",
       "      <td>ELENA ZAKHAROVA</td>\n",
       "      <td>8360</td>\n",
       "      <td>311602</td>\n",
       "    </tr>\n",
       "    <tr>\n",
       "      <th>2</th>\n",
       "      <td>5432000286</td>\n",
       "      <td>ILYA PAVLOV</td>\n",
       "      <td>4510</td>\n",
       "      <td>377533</td>\n",
       "    </tr>\n",
       "    <tr>\n",
       "      <th>3</th>\n",
       "      <td>5432000287</td>\n",
       "      <td>ELENA BELOVA</td>\n",
       "      <td>5952</td>\n",
       "      <td>253588</td>\n",
       "    </tr>\n",
       "    <tr>\n",
       "      <th>4</th>\n",
       "      <td>5432000288</td>\n",
       "      <td>VYACHESLAV IVANOV</td>\n",
       "      <td>4313</td>\n",
       "      <td>788533</td>\n",
       "    </tr>\n",
       "  </tbody>\n",
       "</table>\n",
       "</div>"
      ],
      "text/plain": [
       "    ticket_no     passenger_name passpor_ser passpor_num\n",
       "0  5432000284    MIKHAIL SEMENOV        4030      855525\n",
       "1  5432000285    ELENA ZAKHAROVA        8360      311602\n",
       "2  5432000286        ILYA PAVLOV        4510      377533\n",
       "3  5432000287       ELENA BELOVA        5952      253588\n",
       "4  5432000288  VYACHESLAV IVANOV        4313      788533"
      ]
     },
     "execution_count": 7,
     "metadata": {},
     "output_type": "execute_result"
    }
   ],
   "source": [
    "passenger_id = passenger_data[\"passenger_id\"]\n",
    "passenger_data = passenger_data.drop(\"passenger_id\", axis=1)\n",
    "passenger_data[\"passpor_ser\"] = passenger_id.apply(lambda x: x.split(\" \")[0].strip(\" \"))\n",
    "passenger_data[\"passpor_num\"] = passenger_id.apply(\n",
    "    lambda x: x.split(\" \")[-1].strip(\" \")\n",
    ")\n",
    "passenger_data.head()"
   ]
  },
  {
   "cell_type": "code",
   "execution_count": null,
   "metadata": {},
   "outputs": [],
   "source": []
  }
 ],
 "metadata": {
  "kernelspec": {
   "display_name": ".venv",
   "language": "python",
   "name": "python3"
  },
  "language_info": {
   "codemirror_mode": {
    "name": "ipython",
    "version": 3
   },
   "file_extension": ".py",
   "mimetype": "text/x-python",
   "name": "python",
   "nbconvert_exporter": "python",
   "pygments_lexer": "ipython3",
   "version": "3.12.3"
  }
 },
 "nbformat": 4,
 "nbformat_minor": 2
}
